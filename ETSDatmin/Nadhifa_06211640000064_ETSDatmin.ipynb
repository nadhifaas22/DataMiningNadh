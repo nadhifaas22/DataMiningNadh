{
 "cells": [
  {
   "cell_type": "markdown",
   "metadata": {},
   "source": [
    "# ETS Data Mining Kelas B"
   ]
  },
  {
   "cell_type": "markdown",
   "metadata": {},
   "source": [
    "### Nadhifa Ayu Shafirra (06211640000064)"
   ]
  },
  {
   "cell_type": "code",
   "execution_count": 1,
   "metadata": {
    "collapsed": true
   },
   "outputs": [],
   "source": [
    "import numpy as np\n",
    "import matplotlib.pyplot as plt\n",
    "import pandas as pd"
   ]
  },
  {
   "cell_type": "code",
   "execution_count": 2,
   "metadata": {},
   "outputs": [
    {
     "data": {
      "text/html": [
       "<div>\n",
       "<style>\n",
       "    .dataframe thead tr:only-child th {\n",
       "        text-align: right;\n",
       "    }\n",
       "\n",
       "    .dataframe thead th {\n",
       "        text-align: left;\n",
       "    }\n",
       "\n",
       "    .dataframe tbody tr th {\n",
       "        vertical-align: top;\n",
       "    }\n",
       "</style>\n",
       "<table border=\"1\" class=\"dataframe\">\n",
       "  <thead>\n",
       "    <tr style=\"text-align: right;\">\n",
       "      <th></th>\n",
       "      <th>InvoiceNo</th>\n",
       "      <th>StockCode</th>\n",
       "      <th>Description</th>\n",
       "      <th>Quantity</th>\n",
       "      <th>InvoiceDate</th>\n",
       "      <th>UnitPrice</th>\n",
       "      <th>CustomerID</th>\n",
       "      <th>Country</th>\n",
       "    </tr>\n",
       "  </thead>\n",
       "  <tbody>\n",
       "    <tr>\n",
       "      <th>0</th>\n",
       "      <td>536365</td>\n",
       "      <td>85123A</td>\n",
       "      <td>WHITE HANGING HEART T-LIGHT HOLDER</td>\n",
       "      <td>6</td>\n",
       "      <td>12/1/10 08:26</td>\n",
       "      <td>2.55</td>\n",
       "      <td>17850.0</td>\n",
       "      <td>United Kingdom</td>\n",
       "    </tr>\n",
       "    <tr>\n",
       "      <th>1</th>\n",
       "      <td>536365</td>\n",
       "      <td>71053</td>\n",
       "      <td>WHITE METAL LANTERN</td>\n",
       "      <td>6</td>\n",
       "      <td>12/1/10 08:26</td>\n",
       "      <td>3.39</td>\n",
       "      <td>17850.0</td>\n",
       "      <td>United Kingdom</td>\n",
       "    </tr>\n",
       "    <tr>\n",
       "      <th>2</th>\n",
       "      <td>536365</td>\n",
       "      <td>84406B</td>\n",
       "      <td>CREAM CUPID HEARTS COAT HANGER</td>\n",
       "      <td>8</td>\n",
       "      <td>12/1/10 08:26</td>\n",
       "      <td>2.75</td>\n",
       "      <td>17850.0</td>\n",
       "      <td>United Kingdom</td>\n",
       "    </tr>\n",
       "    <tr>\n",
       "      <th>3</th>\n",
       "      <td>536365</td>\n",
       "      <td>84029G</td>\n",
       "      <td>KNITTED UNION FLAG HOT WATER BOTTLE</td>\n",
       "      <td>6</td>\n",
       "      <td>12/1/10 08:26</td>\n",
       "      <td>3.39</td>\n",
       "      <td>17850.0</td>\n",
       "      <td>United Kingdom</td>\n",
       "    </tr>\n",
       "    <tr>\n",
       "      <th>4</th>\n",
       "      <td>536365</td>\n",
       "      <td>84029E</td>\n",
       "      <td>RED WOOLLY HOTTIE WHITE HEART.</td>\n",
       "      <td>6</td>\n",
       "      <td>12/1/10 08:26</td>\n",
       "      <td>3.39</td>\n",
       "      <td>17850.0</td>\n",
       "      <td>United Kingdom</td>\n",
       "    </tr>\n",
       "  </tbody>\n",
       "</table>\n",
       "</div>"
      ],
      "text/plain": [
       "  InvoiceNo StockCode                          Description  Quantity  \\\n",
       "0    536365    85123A   WHITE HANGING HEART T-LIGHT HOLDER         6   \n",
       "1    536365     71053                  WHITE METAL LANTERN         6   \n",
       "2    536365    84406B       CREAM CUPID HEARTS COAT HANGER         8   \n",
       "3    536365    84029G  KNITTED UNION FLAG HOT WATER BOTTLE         6   \n",
       "4    536365    84029E       RED WOOLLY HOTTIE WHITE HEART.         6   \n",
       "\n",
       "     InvoiceDate  UnitPrice  CustomerID         Country  \n",
       "0  12/1/10 08:26       2.55     17850.0  United Kingdom  \n",
       "1  12/1/10 08:26       3.39     17850.0  United Kingdom  \n",
       "2  12/1/10 08:26       2.75     17850.0  United Kingdom  \n",
       "3  12/1/10 08:26       3.39     17850.0  United Kingdom  \n",
       "4  12/1/10 08:26       3.39     17850.0  United Kingdom  "
      ]
     },
     "execution_count": 2,
     "metadata": {},
     "output_type": "execute_result"
    }
   ],
   "source": [
    "data = pd.read_csv('online_retail.csv')\n",
    "data.head()"
   ]
  },
  {
   "cell_type": "code",
   "execution_count": 11,
   "metadata": {},
   "outputs": [
    {
     "data": {
      "text/html": [
       "<div>\n",
       "<style>\n",
       "    .dataframe thead tr:only-child th {\n",
       "        text-align: right;\n",
       "    }\n",
       "\n",
       "    .dataframe thead th {\n",
       "        text-align: left;\n",
       "    }\n",
       "\n",
       "    .dataframe tbody tr th {\n",
       "        vertical-align: top;\n",
       "    }\n",
       "</style>\n",
       "<table border=\"1\" class=\"dataframe\">\n",
       "  <thead>\n",
       "    <tr style=\"text-align: right;\">\n",
       "      <th></th>\n",
       "      <th>InvoiceNo</th>\n",
       "      <th>StockCode</th>\n",
       "      <th>Description</th>\n",
       "      <th>Quantity</th>\n",
       "      <th>InvoiceDate</th>\n",
       "      <th>UnitPrice</th>\n",
       "      <th>CustomerID</th>\n",
       "      <th>Country</th>\n",
       "      <th>TotalAmount</th>\n",
       "    </tr>\n",
       "  </thead>\n",
       "  <tbody>\n",
       "    <tr>\n",
       "      <th>0</th>\n",
       "      <td>536365</td>\n",
       "      <td>85123A</td>\n",
       "      <td>WHITE HANGING HEART T-LIGHT HOLDER</td>\n",
       "      <td>6</td>\n",
       "      <td>12/1/10 08:26</td>\n",
       "      <td>2.55</td>\n",
       "      <td>17850.0</td>\n",
       "      <td>United Kingdom</td>\n",
       "      <td>15.30</td>\n",
       "    </tr>\n",
       "    <tr>\n",
       "      <th>1</th>\n",
       "      <td>536365</td>\n",
       "      <td>71053</td>\n",
       "      <td>WHITE METAL LANTERN</td>\n",
       "      <td>6</td>\n",
       "      <td>12/1/10 08:26</td>\n",
       "      <td>3.39</td>\n",
       "      <td>17850.0</td>\n",
       "      <td>United Kingdom</td>\n",
       "      <td>20.34</td>\n",
       "    </tr>\n",
       "    <tr>\n",
       "      <th>2</th>\n",
       "      <td>536365</td>\n",
       "      <td>84406B</td>\n",
       "      <td>CREAM CUPID HEARTS COAT HANGER</td>\n",
       "      <td>8</td>\n",
       "      <td>12/1/10 08:26</td>\n",
       "      <td>2.75</td>\n",
       "      <td>17850.0</td>\n",
       "      <td>United Kingdom</td>\n",
       "      <td>22.00</td>\n",
       "    </tr>\n",
       "    <tr>\n",
       "      <th>3</th>\n",
       "      <td>536365</td>\n",
       "      <td>84029G</td>\n",
       "      <td>KNITTED UNION FLAG HOT WATER BOTTLE</td>\n",
       "      <td>6</td>\n",
       "      <td>12/1/10 08:26</td>\n",
       "      <td>3.39</td>\n",
       "      <td>17850.0</td>\n",
       "      <td>United Kingdom</td>\n",
       "      <td>20.34</td>\n",
       "    </tr>\n",
       "    <tr>\n",
       "      <th>4</th>\n",
       "      <td>536365</td>\n",
       "      <td>84029E</td>\n",
       "      <td>RED WOOLLY HOTTIE WHITE HEART.</td>\n",
       "      <td>6</td>\n",
       "      <td>12/1/10 08:26</td>\n",
       "      <td>3.39</td>\n",
       "      <td>17850.0</td>\n",
       "      <td>United Kingdom</td>\n",
       "      <td>20.34</td>\n",
       "    </tr>\n",
       "  </tbody>\n",
       "</table>\n",
       "</div>"
      ],
      "text/plain": [
       "  InvoiceNo StockCode                          Description  Quantity  \\\n",
       "0    536365    85123A   WHITE HANGING HEART T-LIGHT HOLDER         6   \n",
       "1    536365     71053                  WHITE METAL LANTERN         6   \n",
       "2    536365    84406B       CREAM CUPID HEARTS COAT HANGER         8   \n",
       "3    536365    84029G  KNITTED UNION FLAG HOT WATER BOTTLE         6   \n",
       "4    536365    84029E       RED WOOLLY HOTTIE WHITE HEART.         6   \n",
       "\n",
       "     InvoiceDate  UnitPrice  CustomerID         Country  TotalAmount  \n",
       "0  12/1/10 08:26       2.55     17850.0  United Kingdom        15.30  \n",
       "1  12/1/10 08:26       3.39     17850.0  United Kingdom        20.34  \n",
       "2  12/1/10 08:26       2.75     17850.0  United Kingdom        22.00  \n",
       "3  12/1/10 08:26       3.39     17850.0  United Kingdom        20.34  \n",
       "4  12/1/10 08:26       3.39     17850.0  United Kingdom        20.34  "
      ]
     },
     "execution_count": 11,
     "metadata": {},
     "output_type": "execute_result"
    }
   ],
   "source": [
    "data['TotalAmount'] = data['Quantity'] * data['UnitPrice']\n",
    "data.head()"
   ]
  },
  {
   "cell_type": "code",
   "execution_count": 12,
   "metadata": {},
   "outputs": [
    {
     "data": {
      "text/html": [
       "<div>\n",
       "<style>\n",
       "    .dataframe thead tr:only-child th {\n",
       "        text-align: right;\n",
       "    }\n",
       "\n",
       "    .dataframe thead th {\n",
       "        text-align: left;\n",
       "    }\n",
       "\n",
       "    .dataframe tbody tr th {\n",
       "        vertical-align: top;\n",
       "    }\n",
       "</style>\n",
       "<table border=\"1\" class=\"dataframe\">\n",
       "  <thead>\n",
       "    <tr style=\"text-align: right;\">\n",
       "      <th></th>\n",
       "      <th>Quantity</th>\n",
       "      <th>UnitPrice</th>\n",
       "      <th>CustomerID</th>\n",
       "      <th>TotalAmount</th>\n",
       "    </tr>\n",
       "  </thead>\n",
       "  <tbody>\n",
       "    <tr>\n",
       "      <th>count</th>\n",
       "      <td>541909.000000</td>\n",
       "      <td>541909.000000</td>\n",
       "      <td>406829.000000</td>\n",
       "      <td>541909.000000</td>\n",
       "    </tr>\n",
       "    <tr>\n",
       "      <th>mean</th>\n",
       "      <td>9.552250</td>\n",
       "      <td>4.611114</td>\n",
       "      <td>15287.690570</td>\n",
       "      <td>17.987795</td>\n",
       "    </tr>\n",
       "    <tr>\n",
       "      <th>std</th>\n",
       "      <td>218.081158</td>\n",
       "      <td>96.759853</td>\n",
       "      <td>1713.600303</td>\n",
       "      <td>378.810824</td>\n",
       "    </tr>\n",
       "    <tr>\n",
       "      <th>min</th>\n",
       "      <td>-80995.000000</td>\n",
       "      <td>-11062.060000</td>\n",
       "      <td>12346.000000</td>\n",
       "      <td>-168469.600000</td>\n",
       "    </tr>\n",
       "    <tr>\n",
       "      <th>25%</th>\n",
       "      <td>1.000000</td>\n",
       "      <td>1.250000</td>\n",
       "      <td>13953.000000</td>\n",
       "      <td>3.400000</td>\n",
       "    </tr>\n",
       "    <tr>\n",
       "      <th>50%</th>\n",
       "      <td>3.000000</td>\n",
       "      <td>2.080000</td>\n",
       "      <td>15152.000000</td>\n",
       "      <td>9.750000</td>\n",
       "    </tr>\n",
       "    <tr>\n",
       "      <th>75%</th>\n",
       "      <td>10.000000</td>\n",
       "      <td>4.130000</td>\n",
       "      <td>16791.000000</td>\n",
       "      <td>17.400000</td>\n",
       "    </tr>\n",
       "    <tr>\n",
       "      <th>max</th>\n",
       "      <td>80995.000000</td>\n",
       "      <td>38970.000000</td>\n",
       "      <td>18287.000000</td>\n",
       "      <td>168469.600000</td>\n",
       "    </tr>\n",
       "  </tbody>\n",
       "</table>\n",
       "</div>"
      ],
      "text/plain": [
       "            Quantity      UnitPrice     CustomerID    TotalAmount\n",
       "count  541909.000000  541909.000000  406829.000000  541909.000000\n",
       "mean        9.552250       4.611114   15287.690570      17.987795\n",
       "std       218.081158      96.759853    1713.600303     378.810824\n",
       "min    -80995.000000  -11062.060000   12346.000000 -168469.600000\n",
       "25%         1.000000       1.250000   13953.000000       3.400000\n",
       "50%         3.000000       2.080000   15152.000000       9.750000\n",
       "75%        10.000000       4.130000   16791.000000      17.400000\n",
       "max     80995.000000   38970.000000   18287.000000  168469.600000"
      ]
     },
     "execution_count": 12,
     "metadata": {},
     "output_type": "execute_result"
    }
   ],
   "source": [
    "data.describe()"
   ]
  },
  {
   "cell_type": "markdown",
   "metadata": {},
   "source": [
    "### Jumlah Transaksi "
   ]
  },
  {
   "cell_type": "code",
   "execution_count": 14,
   "metadata": {},
   "outputs": [
    {
     "data": {
      "text/plain": [
       "25900"
      ]
     },
     "execution_count": 14,
     "metadata": {},
     "output_type": "execute_result"
    }
   ],
   "source": [
    "len(data['InvoiceNo'].unique())"
   ]
  },
  {
   "cell_type": "code",
   "execution_count": 15,
   "metadata": {},
   "outputs": [
    {
     "data": {
      "text/plain": [
       "3710"
      ]
     },
     "execution_count": 15,
     "metadata": {},
     "output_type": "execute_result"
    }
   ],
   "source": [
    "#Jumlah transaksi dengan CustomerID NULL (Tidak terdefinisi)\n",
    "len(data[data['CustomerID'].isnull()]['InvoiceNo'].unique())"
   ]
  },
  {
   "cell_type": "markdown",
   "metadata": {},
   "source": [
    "### Jumlah Customer "
   ]
  },
  {
   "cell_type": "code",
   "execution_count": 16,
   "metadata": {},
   "outputs": [
    {
     "data": {
      "text/plain": [
       "4373"
      ]
     },
     "execution_count": 16,
     "metadata": {},
     "output_type": "execute_result"
    }
   ],
   "source": [
    "len(data['CustomerID'].unique())"
   ]
  },
  {
   "cell_type": "markdown",
   "metadata": {},
   "source": [
    "### Total Penjualan "
   ]
  },
  {
   "cell_type": "code",
   "execution_count": 17,
   "metadata": {},
   "outputs": [
    {
     "data": {
      "text/plain": [
       "9747747.9340031706"
      ]
     },
     "execution_count": 17,
     "metadata": {},
     "output_type": "execute_result"
    }
   ],
   "source": [
    "sum(data['TotalAmount'])"
   ]
  },
  {
   "cell_type": "code",
   "execution_count": 18,
   "metadata": {},
   "outputs": [
    {
     "data": {
      "text/plain": [
       "CustomerID\n",
       "14646.0    279489.02\n",
       "18102.0    256438.49\n",
       "17450.0    187482.17\n",
       "14911.0    132572.62\n",
       "12415.0    123725.45\n",
       "14156.0    113384.14\n",
       "17511.0     88125.38\n",
       "16684.0     65892.08\n",
       "13694.0     62653.10\n",
       "15311.0     59419.34\n",
       "Name: TotalAmount, dtype: float64"
      ]
     },
     "execution_count": 18,
     "metadata": {},
     "output_type": "execute_result"
    }
   ],
   "source": [
    "#Customer dengan pembelian harga terbesar\n",
    "customers_total = data.groupby('CustomerID')['TotalAmount'].agg(np.sum).sort_values(ascending=False)\n",
    "customers_total.head(10)"
   ]
  },
  {
   "cell_type": "code",
   "execution_count": 24,
   "metadata": {},
   "outputs": [
    {
     "data": {
      "image/png": "[encoded data removed]",
      "text/plain": [
       "<matplotlib.figure.Figure at 0x247f8242208>"
      ]
     },
     "metadata": {},
     "output_type": "display_data"
    }
   ],
   "source": [
    "customers_total.head(10).plot.bar()\n",
    "plt.show()"
   ]
  },
  {
   "cell_type": "code",
   "execution_count": 25,
   "metadata": {},
   "outputs": [
    {
     "data": {
      "text/plain": [
       "Description\n",
       "WORLD WAR 2 GLIDERS ASSTD DESIGNS     53847\n",
       "JUMBO BAG RED RETROSPOT               47363\n",
       "ASSORTED COLOUR BIRD ORNAMENT         36381\n",
       "POPCORN HOLDER                        36334\n",
       "PACK OF 72 RETROSPOT CAKE CASES       36039\n",
       "WHITE HANGING HEART T-LIGHT HOLDER    35317\n",
       "RABBIT NIGHT LIGHT                    30680\n",
       "MINI PAINT SET VINTAGE                26437\n",
       "PACK OF 12 LONDON TISSUES             26315\n",
       "PACK OF 60 PINK PAISLEY CAKE CASES    24753\n",
       "Name: Quantity, dtype: int64"
      ]
     },
     "execution_count": 25,
     "metadata": {},
     "output_type": "execute_result"
    }
   ],
   "source": [
    "#Barang yang paling banyak dibeli\n",
    "stockcodenew = data.groupby('Description')\n",
    "freq_qty = stockcodenew['Quantity'].agg(np.sum).sort_values(ascending=False)\n",
    "freq_qty.head(10)"
   ]
  },
  {
   "cell_type": "code",
   "execution_count": 26,
   "metadata": {},
   "outputs": [
    {
     "data": {
      "image/png": "[encoded data removed]",
      "text/plain": [
       "<matplotlib.figure.Figure at 0x247805b7780>"
      ]
     },
     "metadata": {},
     "output_type": "display_data"
    }
   ],
   "source": [
    "freq_qty.head(15).plot.bar()\n",
    "plt.show()"
   ]
  },
  {
   "cell_type": "code",
   "execution_count": 27,
   "metadata": {},
   "outputs": [
    {
     "data": {
      "text/plain": [
       "Description\n",
       "DOTCOM POSTAGE                        206245.48\n",
       "REGENCY CAKESTAND 3 TIER              164762.19\n",
       "WHITE HANGING HEART T-LIGHT HOLDER     99668.47\n",
       "PARTY BUNTING                          98302.98\n",
       "JUMBO BAG RED RETROSPOT                92356.03\n",
       "RABBIT NIGHT LIGHT                     66756.59\n",
       "POSTAGE                                66230.64\n",
       "PAPER CHAIN KIT 50'S CHRISTMAS         63791.94\n",
       "ASSORTED COLOUR BIRD ORNAMENT          58959.73\n",
       "CHILLI LIGHTS                          53768.06\n",
       "Name: TotalAmount, dtype: float64"
      ]
     },
     "execution_count": 27,
     "metadata": {},
     "output_type": "execute_result"
    }
   ],
   "source": [
    "#Barang dengan harga penjualan terbesar\n",
    "freq_total = stockcodenew['TotalAmount'].agg(np.sum).sort_values(ascending=False)\n",
    "freq_total.head(10)"
   ]
  },
  {
   "cell_type": "code",
   "execution_count": 28,
   "metadata": {},
   "outputs": [
    {
     "data": {
      "image/png": "[encoded data removed]",
      "text/plain": [
       "<matplotlib.figure.Figure at 0x24780af2da0>"
      ]
     },
     "metadata": {},
     "output_type": "display_data"
    }
   ],
   "source": [
    "freq_total.head(15).plot.bar()\n",
    "plt.show()"
   ]
  },
  {
   "cell_type": "code",
   "execution_count": 29,
   "metadata": {},
   "outputs": [
    {
     "data": {
      "text/plain": [
       "Country\n",
       "United Kingdom    8.187806e+06\n",
       "Netherlands       2.846615e+05\n",
       "EIRE              2.632768e+05\n",
       "Germany           2.216982e+05\n",
       "France            1.974039e+05\n",
       "Australia         1.370773e+05\n",
       "Switzerland       5.638535e+04\n",
       "Spain             5.477458e+04\n",
       "Belgium           4.091096e+04\n",
       "Sweden            3.659591e+04\n",
       "Name: TotalAmount, dtype: float64"
      ]
     },
     "execution_count": 29,
     "metadata": {},
     "output_type": "execute_result"
    }
   ],
   "source": [
    "countrynew = data.groupby('Country')\n",
    "#Negara dengan total penjualan terbesar\n",
    "countrynew['TotalAmount'].agg(np.sum).sort_values(ascending=False).head(n=10)"
   ]
  },
  {
   "cell_type": "code",
   "execution_count": 30,
   "metadata": {},
   "outputs": [
    {
     "data": {
      "text/plain": [
       "Country\n",
       "United Kingdom    23494\n",
       "Germany             603\n",
       "France              461\n",
       "EIRE                360\n",
       "Belgium             119\n",
       "Spain               105\n",
       "Netherlands         101\n",
       "Switzerland          74\n",
       "Portugal             71\n",
       "Australia            69\n",
       "Name: InvoiceNo, dtype: int64"
      ]
     },
     "execution_count": 30,
     "metadata": {},
     "output_type": "execute_result"
    }
   ],
   "source": [
    "#Negara berdasarkan jumlah transaksi terbanyak\n",
    "countrynew['InvoiceNo'].unique().agg(np.size).sort_values(ascending=False).head(n=10)"
   ]
  },
  {
   "cell_type": "code",
   "execution_count": 31,
   "metadata": {},
   "outputs": [
    {
     "data": {
      "text/plain": [
       "Country\n",
       "United Kingdom    3951\n",
       "Germany             95\n",
       "France              88\n",
       "Spain               31\n",
       "Belgium             25\n",
       "Switzerland         22\n",
       "Portugal            20\n",
       "Italy               15\n",
       "Finland             12\n",
       "Austria             11\n",
       "Name: CustomerID, dtype: int64"
      ]
     },
     "execution_count": 31,
     "metadata": {},
     "output_type": "execute_result"
    }
   ],
   "source": [
    "#Negara berdasarkan jumlah customer terbanyak\n",
    "countrynew['CustomerID'].unique().agg(np.size).sort_values(ascending=False).head(n=10)"
   ]
  },
  {
   "cell_type": "markdown",
   "metadata": {},
   "source": [
    "## Association Rule "
   ]
  },
  {
   "cell_type": "code",
   "execution_count": 32,
   "metadata": {},
   "outputs": [
    {
     "data": {
      "text/plain": [
       "1454"
      ]
     },
     "execution_count": 32,
     "metadata": {},
     "output_type": "execute_result"
    }
   ],
   "source": [
    "len(data[data['Description'].isnull()])"
   ]
  },
  {
   "cell_type": "code",
   "execution_count": 33,
   "metadata": {},
   "outputs": [
    {
     "name": "stderr",
     "output_type": "stream",
     "text": [
      "C:\\Users\\Narendra Dhafa\\Anaconda3\\lib\\site-packages\\ipykernel_launcher.py:2: SettingWithCopyWarning: \n",
      "A value is trying to be set on a copy of a slice from a DataFrame\n",
      "\n",
      "See the caveats in the documentation: http://pandas.pydata.org/pandas-docs/stable/indexing.html#indexing-view-versus-copy\n",
      "  \n"
     ]
    }
   ],
   "source": [
    "for i, d in data[data['Description'].isnull()].iterrows():\n",
    "    data['Description'][i] = \"Code-\" + str(d['StockCode'])"
   ]
  },
  {
   "cell_type": "code",
   "execution_count": 34,
   "metadata": {},
   "outputs": [
    {
     "data": {
      "text/plain": [
       "1454"
      ]
     },
     "execution_count": 34,
     "metadata": {},
     "output_type": "execute_result"
    }
   ],
   "source": [
    "len(data[data['Description']==data['StockCode'].map(lambda x: \"Code-\"+str(x))])"
   ]
  },
  {
   "cell_type": "code",
   "execution_count": 37,
   "metadata": {},
   "outputs": [],
   "source": [
    "invoicenonew = data.groupby('InvoiceNo')\n",
    "transactions = []\n",
    "for name,group in invoicenonew:\n",
    "    transactions.append(list(group['Description'].map(str)))"
   ]
  },
  {
   "cell_type": "code",
   "execution_count": 44,
   "metadata": {
    "collapsed": true
   },
   "outputs": [],
   "source": [
    "from apyori import apriori\n",
    "rules = apriori(transactions, min_support = 0.005, min_confidence = 0.5, min_lift = 3, min_length = 2)\n",
    "results = list(rules)"
   ]
  },
  {
   "cell_type": "code",
   "execution_count": 45,
   "metadata": {},
   "outputs": [
    {
     "data": {
      "text/html": [
       "<div>\n",
       "<style>\n",
       "    .dataframe thead tr:only-child th {\n",
       "        text-align: right;\n",
       "    }\n",
       "\n",
       "    .dataframe thead th {\n",
       "        text-align: left;\n",
       "    }\n",
       "\n",
       "    .dataframe tbody tr th {\n",
       "        vertical-align: top;\n",
       "    }\n",
       "</style>\n",
       "<table border=\"1\" class=\"dataframe\">\n",
       "  <thead>\n",
       "    <tr style=\"text-align: right;\">\n",
       "      <th></th>\n",
       "      <th>GeneralRules</th>\n",
       "      <th>LeftRules</th>\n",
       "      <th>RightRules</th>\n",
       "      <th>Support</th>\n",
       "      <th>Confidence</th>\n",
       "      <th>Lift</th>\n",
       "    </tr>\n",
       "  </thead>\n",
       "  <tbody>\n",
       "    <tr>\n",
       "      <th>2530</th>\n",
       "      <td>HERB MARKER ROSEMARY _&amp;&amp;_ HERB MARKER BASIL _&amp;...</td>\n",
       "      <td>HERB MARKER PARSLEY _&amp;&amp;_ HERB MARKER ROSEMARY ...</td>\n",
       "      <td>HERB MARKER THYME</td>\n",
       "      <td>0.006409</td>\n",
       "      <td>0.988095</td>\n",
       "      <td>107.528011</td>\n",
       "    </tr>\n",
       "    <tr>\n",
       "      <th>2557</th>\n",
       "      <td>HERB MARKER ROSEMARY _&amp;&amp;_ HERB MARKER BASIL _&amp;...</td>\n",
       "      <td>HERB MARKER ROSEMARY _&amp;&amp;_ HERB MARKER BASIL _&amp;...</td>\n",
       "      <td>HERB MARKER THYME</td>\n",
       "      <td>0.006100</td>\n",
       "      <td>0.987500</td>\n",
       "      <td>107.463235</td>\n",
       "    </tr>\n",
       "    <tr>\n",
       "      <th>2255</th>\n",
       "      <td>HERB MARKER THYME _&amp;&amp;_ HERB MARKER ROSEMARY _&amp;...</td>\n",
       "      <td>HERB MARKER ROSEMARY _&amp;&amp;_ HERB MARKER BASIL _&amp;...</td>\n",
       "      <td>HERB MARKER THYME</td>\n",
       "      <td>0.006525</td>\n",
       "      <td>0.982558</td>\n",
       "      <td>106.925445</td>\n",
       "    </tr>\n",
       "    <tr>\n",
       "      <th>2529</th>\n",
       "      <td>HERB MARKER ROSEMARY _&amp;&amp;_ HERB MARKER BASIL _&amp;...</td>\n",
       "      <td>HERB MARKER MINT _&amp;&amp;_ HERB MARKER ROSEMARY _&amp;&amp;...</td>\n",
       "      <td>HERB MARKER THYME</td>\n",
       "      <td>0.006139</td>\n",
       "      <td>0.981481</td>\n",
       "      <td>106.808279</td>\n",
       "    </tr>\n",
       "    <tr>\n",
       "      <th>2263</th>\n",
       "      <td>HERB MARKER PARSLEY _&amp;&amp;_ HERB MARKER ROSEMARY ...</td>\n",
       "      <td>HERB MARKER PARSLEY _&amp;&amp;_ HERB MARKER ROSEMARY ...</td>\n",
       "      <td>HERB MARKER THYME</td>\n",
       "      <td>0.006911</td>\n",
       "      <td>0.972826</td>\n",
       "      <td>105.866368</td>\n",
       "    </tr>\n",
       "    <tr>\n",
       "      <th>2250</th>\n",
       "      <td>HERB MARKER PARSLEY _&amp;&amp;_ HERB MARKER MINT _&amp;&amp;_...</td>\n",
       "      <td>HERB MARKER MINT _&amp;&amp;_ HERB MARKER BASIL _&amp;&amp;_ H...</td>\n",
       "      <td>HERB MARKER PARSLEY</td>\n",
       "      <td>0.006448</td>\n",
       "      <td>0.976608</td>\n",
       "      <td>105.833272</td>\n",
       "    </tr>\n",
       "    <tr>\n",
       "      <th>2532</th>\n",
       "      <td>HERB MARKER ROSEMARY _&amp;&amp;_ HERB MARKER CHIVES  ...</td>\n",
       "      <td>HERB MARKER PARSLEY _&amp;&amp;_ HERB MARKER MINT _&amp;&amp;_...</td>\n",
       "      <td>HERB MARKER THYME</td>\n",
       "      <td>0.006564</td>\n",
       "      <td>0.971429</td>\n",
       "      <td>105.714286</td>\n",
       "    </tr>\n",
       "    <tr>\n",
       "      <th>2531</th>\n",
       "      <td>HERB MARKER ROSEMARY _&amp;&amp;_ HERB MARKER BASIL _&amp;...</td>\n",
       "      <td>HERB MARKER PARSLEY _&amp;&amp;_ HERB MARKER MINT _&amp;&amp;_...</td>\n",
       "      <td>HERB MARKER THYME</td>\n",
       "      <td>0.006680</td>\n",
       "      <td>0.966480</td>\n",
       "      <td>105.175813</td>\n",
       "    </tr>\n",
       "    <tr>\n",
       "      <th>2262</th>\n",
       "      <td>HERB MARKER MINT _&amp;&amp;_ HERB MARKER ROSEMARY _&amp;&amp;...</td>\n",
       "      <td>HERB MARKER MINT _&amp;&amp;_ HERB MARKER ROSEMARY _&amp;&amp;...</td>\n",
       "      <td>HERB MARKER THYME</td>\n",
       "      <td>0.006641</td>\n",
       "      <td>0.966292</td>\n",
       "      <td>105.155321</td>\n",
       "    </tr>\n",
       "    <tr>\n",
       "      <th>2254</th>\n",
       "      <td>HERB MARKER PARSLEY _&amp;&amp;_ HERB MARKER THYME _&amp;&amp;...</td>\n",
       "      <td>HERB MARKER PARSLEY _&amp;&amp;_ HERB MARKER BASIL _&amp;&amp;...</td>\n",
       "      <td>HERB MARKER THYME</td>\n",
       "      <td>0.006564</td>\n",
       "      <td>0.965909</td>\n",
       "      <td>105.113636</td>\n",
       "    </tr>\n",
       "  </tbody>\n",
       "</table>\n",
       "</div>"
      ],
      "text/plain": [
       "                                           GeneralRules  \\\n",
       "2530  HERB MARKER ROSEMARY _&&_ HERB MARKER BASIL _&...   \n",
       "2557  HERB MARKER ROSEMARY _&&_ HERB MARKER BASIL _&...   \n",
       "2255  HERB MARKER THYME _&&_ HERB MARKER ROSEMARY _&...   \n",
       "2529  HERB MARKER ROSEMARY _&&_ HERB MARKER BASIL _&...   \n",
       "2263  HERB MARKER PARSLEY _&&_ HERB MARKER ROSEMARY ...   \n",
       "2250  HERB MARKER PARSLEY _&&_ HERB MARKER MINT _&&_...   \n",
       "2532  HERB MARKER ROSEMARY _&&_ HERB MARKER CHIVES  ...   \n",
       "2531  HERB MARKER ROSEMARY _&&_ HERB MARKER BASIL _&...   \n",
       "2262  HERB MARKER MINT _&&_ HERB MARKER ROSEMARY _&&...   \n",
       "2254  HERB MARKER PARSLEY _&&_ HERB MARKER THYME _&&...   \n",
       "\n",
       "                                              LeftRules           RightRules  \\\n",
       "2530  HERB MARKER PARSLEY _&&_ HERB MARKER ROSEMARY ...    HERB MARKER THYME   \n",
       "2557  HERB MARKER ROSEMARY _&&_ HERB MARKER BASIL _&...    HERB MARKER THYME   \n",
       "2255  HERB MARKER ROSEMARY _&&_ HERB MARKER BASIL _&...    HERB MARKER THYME   \n",
       "2529  HERB MARKER MINT _&&_ HERB MARKER ROSEMARY _&&...    HERB MARKER THYME   \n",
       "2263  HERB MARKER PARSLEY _&&_ HERB MARKER ROSEMARY ...    HERB MARKER THYME   \n",
       "2250  HERB MARKER MINT _&&_ HERB MARKER BASIL _&&_ H...  HERB MARKER PARSLEY   \n",
       "2532  HERB MARKER PARSLEY _&&_ HERB MARKER MINT _&&_...    HERB MARKER THYME   \n",
       "2531  HERB MARKER PARSLEY _&&_ HERB MARKER MINT _&&_...    HERB MARKER THYME   \n",
       "2262  HERB MARKER MINT _&&_ HERB MARKER ROSEMARY _&&...    HERB MARKER THYME   \n",
       "2254  HERB MARKER PARSLEY _&&_ HERB MARKER BASIL _&&...    HERB MARKER THYME   \n",
       "\n",
       "       Support  Confidence        Lift  \n",
       "2530  0.006409    0.988095  107.528011  \n",
       "2557  0.006100    0.987500  107.463235  \n",
       "2255  0.006525    0.982558  106.925445  \n",
       "2529  0.006139    0.981481  106.808279  \n",
       "2263  0.006911    0.972826  105.866368  \n",
       "2250  0.006448    0.976608  105.833272  \n",
       "2532  0.006564    0.971429  105.714286  \n",
       "2531  0.006680    0.966480  105.175813  \n",
       "2262  0.006641    0.966292  105.155321  \n",
       "2254  0.006564    0.965909  105.113636  "
      ]
     },
     "execution_count": 45,
     "metadata": {},
     "output_type": "execute_result"
    }
   ],
   "source": [
    "final = pd.DataFrame(np.random.randint(low=0, high=1, size=(len(results), 6)), columns=['GeneralRules', 'LeftRules', 'RightRules', 'Support', 'Confidence', 'Lift'])\n",
    "index = 0\n",
    "for g, s, i in results:\n",
    "    final.iloc[index] = [' _&&_ '.join(list(g)), ' _&&_ '.join(list(i[0][0])), ' _&&_ '.join(list(i[0][1])), s, i[0][2], i[0][3]]\n",
    "    index = index+1\n",
    "# The most significant rules\n",
    "final = final.sort_values('Lift', ascending=0)\n",
    "final.head(10)"
   ]
  },
  {
   "cell_type": "code",
   "execution_count": 46,
   "metadata": {},
   "outputs": [
    {
     "name": "stdout",
     "output_type": "stream",
     "text": [
      "Rule #1:\n",
      "HERB MARKER PARSLEY _&&_ HERB MARKER ROSEMARY _&&_ HERB MARKER BASIL _&&_ HERB MARKER CHIVES \n",
      "=> HERB MARKER THYME\n",
      "Support: 0.006409266409266409 - Confidence: 0.9880952380952381 - Lift: 107.5280112044818\n",
      "______________________________________\n",
      "Rule #2:\n",
      "HERB MARKER ROSEMARY _&&_ HERB MARKER BASIL _&&_ HERB MARKER CHIVES  _&&_ HERB MARKER PARSLEY _&&_ HERB MARKER MINT\n",
      "=> HERB MARKER THYME\n",
      "Support: 0.006100386100386101 - Confidence: 0.9875 - Lift: 107.46323529411765\n",
      "______________________________________\n",
      "Rule #3:\n",
      "HERB MARKER ROSEMARY _&&_ HERB MARKER BASIL _&&_ HERB MARKER CHIVES \n",
      "=> HERB MARKER THYME\n",
      "Support: 0.0065250965250965255 - Confidence: 0.9825581395348838 - Lift: 106.92544459644324\n",
      "______________________________________\n",
      "Rule #4:\n",
      "HERB MARKER MINT _&&_ HERB MARKER ROSEMARY _&&_ HERB MARKER BASIL _&&_ HERB MARKER CHIVES \n",
      "=> HERB MARKER THYME\n",
      "Support: 0.006138996138996139 - Confidence: 0.9814814814814815 - Lift: 106.8082788671024\n",
      "______________________________________\n",
      "Rule #5:\n",
      "HERB MARKER PARSLEY _&&_ HERB MARKER ROSEMARY _&&_ HERB MARKER CHIVES \n",
      "=> HERB MARKER THYME\n",
      "Support: 0.006911196911196911 - Confidence: 0.9728260869565217 - Lift: 105.86636828644501\n",
      "______________________________________\n",
      "Rule #6:\n",
      "HERB MARKER MINT _&&_ HERB MARKER BASIL _&&_ HERB MARKER CHIVES \n",
      "=> HERB MARKER PARSLEY\n",
      "Support: 0.006447876447876448 - Confidence: 0.9766081871345029 - Lift: 105.83327216227458\n",
      "______________________________________\n",
      "Rule #7:\n",
      "HERB MARKER PARSLEY _&&_ HERB MARKER MINT _&&_ HERB MARKER ROSEMARY _&&_ HERB MARKER CHIVES \n",
      "=> HERB MARKER THYME\n",
      "Support: 0.006563706563706564 - Confidence: 0.9714285714285714 - Lift: 105.71428571428572\n",
      "______________________________________\n",
      "Rule #8:\n",
      "HERB MARKER PARSLEY _&&_ HERB MARKER MINT _&&_ HERB MARKER ROSEMARY _&&_ HERB MARKER BASIL\n",
      "=> HERB MARKER THYME\n",
      "Support: 0.006679536679536679 - Confidence: 0.9664804469273743 - Lift: 105.17581334209662\n",
      "______________________________________\n",
      "Rule #9:\n",
      "HERB MARKER MINT _&&_ HERB MARKER ROSEMARY _&&_ HERB MARKER CHIVES \n",
      "=> HERB MARKER THYME\n",
      "Support: 0.006640926640926641 - Confidence: 0.9662921348314607 - Lift: 105.15532055518837\n",
      "______________________________________\n",
      "Rule #10:\n",
      "HERB MARKER PARSLEY _&&_ HERB MARKER BASIL _&&_ HERB MARKER CHIVES \n",
      "=> HERB MARKER THYME\n",
      "Support: 0.006563706563706564 - Confidence: 0.9659090909090909 - Lift: 105.11363636363637\n",
      "______________________________________\n",
      "Rule #11:\n",
      "HERB MARKER PARSLEY _&&_ HERB MARKER MINT _&&_ HERB MARKER BASIL _&&_ HERB MARKER CHIVES \n",
      "=> HERB MARKER THYME\n",
      "Support: 0.006216216216216216 - Confidence: 0.9640718562874252 - Lift: 104.91370200774921\n",
      "______________________________________\n",
      "Rule #12:\n",
      "HERB MARKER ROSEMARY _&&_ HERB MARKER CHIVES \n",
      "=> HERB MARKER THYME\n",
      "Support: 0.007065637065637066 - Confidence: 0.9631578947368421 - Lift: 104.81424148606811\n",
      "______________________________________\n",
      "Rule #13:\n",
      "SET/6 COLLAGE PAPER CUPS\n",
      "=> SET/6 COLLAGE PAPER PLATES\n",
      "Support: 0.0062548262548262545 - Confidence: 0.8901098901098901 - Lift: 104.79020979020977\n",
      "______________________________________\n",
      "Rule #14:\n",
      "PACK OF 6 SKULL PAPER CUPS\n",
      "=> PACK OF 6 SKULL PAPER PLATES\n",
      "Support: 0.0052123552123552125 - Confidence: 0.7803468208092486 - Lift: 104.72011740393542\n",
      "______________________________________\n",
      "Rule #15:\n",
      "HERB MARKER MINT _&&_ HERB MARKER CHIVES \n",
      "=> HERB MARKER PARSLEY\n",
      "Support: 0.007104247104247104 - Confidence: 0.9633507853403142 - Lift: 104.39659138206753\n",
      "______________________________________\n",
      "Rule #16:\n",
      "HERB MARKER PARSLEY _&&_ HERB MARKER ROSEMARY _&&_ HERB MARKER BASIL\n",
      "=> HERB MARKER THYME\n",
      "Support: 0.00722007722007722 - Confidence: 0.958974358974359 - Lift: 104.35897435897436\n",
      "______________________________________\n",
      "Rule #17:\n",
      "HERB MARKER BASIL _&&_ HERB MARKER CHIVES \n",
      "=> HERB MARKER PARSLEY\n",
      "Support: 0.006795366795366796 - Confidence: 0.9617486338797815 - Lift: 104.22296911082151\n",
      "______________________________________\n",
      "Rule #18:\n",
      "HERB MARKER MINT _&&_ HERB MARKER BASIL _&&_ HERB MARKER CHIVES \n",
      "=> HERB MARKER THYME\n",
      "Support: 0.006293436293436294 - Confidence: 0.9532163742690059 - Lift: 103.73237014103887\n",
      "______________________________________\n",
      "Rule #19:\n",
      "HERB MARKER BASIL _&&_ HERB MARKER CHIVES \n",
      "=> HERB MARKER THYME\n",
      "Support: 0.006718146718146718 - Confidence: 0.9508196721311475 - Lift: 103.47155255544841\n",
      "______________________________________\n",
      "Rule #20:\n",
      "DOLLY GIRL CHILDRENS BOWL\n",
      "=> DOLLY GIRL CHILDRENS CUP\n",
      "Support: 0.005945945945945946 - Confidence: 0.7897435897435897 - Lift: 103.3048433048433\n",
      "______________________________________\n"
     ]
    }
   ],
   "source": [
    "count=1\n",
    "for i, d in final.head(20).iterrows():\n",
    "    print('Rule #'+str(count)+':')\n",
    "    print(d['LeftRules'])\n",
    "    print('=> '+d['RightRules'])\n",
    "    print('Support: '+str(d['Support'])+' - Confidence: '+str(d['Confidence'])+' - Lift: '+str(d['Lift']))\n",
    "    print('______________________________________')\n",
    "    count=count+1"
   ]
  }
 ],
 "metadata": {
  "kernelspec": {
   "display_name": "Python 3",
   "language": "python",
   "name": "python3"
  },
  "language_info": {
   "codemirror_mode": {
    "name": "ipython",
    "version": 3
   },
   "file_extension": ".py",
   "mimetype": "text/x-python",
   "name": "python",
   "nbconvert_exporter": "python",
   "pygments_lexer": "ipython3",
   "version": "3.6.3"
  }
 },
 "nbformat": 4,
 "nbformat_minor": 2
}
